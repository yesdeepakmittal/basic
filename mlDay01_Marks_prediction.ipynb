{
  "nbformat": 4,
  "nbformat_minor": 0,
  "metadata": {
    "colab": {
      "name": "Marks_prediction",
      "provenance": [],
      "authorship_tag": "ABX9TyNBS0Z5su46OyE4eDyVxenm"
    },
    "kernelspec": {
      "name": "python3",
      "display_name": "Python 3"
    }
  },
  "cells": [
    {
      "cell_type": "markdown",
      "metadata": {
        "id": "qrRCno78gBYL",
        "colab_type": "text"
      },
      "source": [
        "<h3>Linear Regression📈</h3>\n",
        "\n",
        "---\n",
        "\n",
        "\n",
        "\n",
        "<p>A linear Regression is an algorithm which is use to determine a relation between two or more variables called <b><i>dependent variable</i></b> and <b><i>independent variable(s)</i></b>.</p>\n",
        "<p>It is an predictive modelling technique which is used to predict the result based upon some past results. If there are one independent variable, it is called simple linear regression and if there are mulitple independent variable, it is called multiple linear regression. </p>"
      ]
    },
    {
      "cell_type": "code",
      "metadata": {
        "id": "phrskIhScy_K",
        "colab_type": "code",
        "colab": {}
      },
      "source": [
        "import pandas as pd\n",
        "import numpy as np  \n",
        "import matplotlib.pyplot as plt  \n",
        "import seaborn as sns\n",
        "import warnings\n",
        "%matplotlib inline"
      ],
      "execution_count": 3,
      "outputs": []
    },
    {
      "cell_type": "code",
      "metadata": {
        "id": "rjvHV_kldubg",
        "colab_type": "code",
        "colab": {}
      },
      "source": [
        ""
      ],
      "execution_count": null,
      "outputs": []
    }
  ]
}