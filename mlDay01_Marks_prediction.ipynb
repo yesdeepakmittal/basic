{
  "nbformat": 4,
  "nbformat_minor": 0,
  "metadata": {
    "colab": {
      "name": "Marks_prediction",
      "provenance": [],
      "authorship_tag": "ABX9TyOEBWehDNlXydV8k1QeoDYb"
    },
    "kernelspec": {
      "name": "python3",
      "display_name": "Python 3"
    }
  },
  "cells": [
    {
      "cell_type": "markdown",
      "metadata": {
        "id": "qrRCno78gBYL",
        "colab_type": "text"
      },
      "source": [
        "<h3>Linear Regression📈</h3>\n",
        "\n",
        "---\n",
        "\n",
        "\n",
        "\n",
        "<p>A linear Regression is an algorithm which is use to determine a relation between two or more variables called <b><i>dependent variable</i></b> and <b><i>independent variable(s)</i></b>.</p>\n",
        "<p>It is an predictive modelling technique which is used to predict the result based upon some past results. If there are one independent variable, it is called simple linear regression and if there are mulitple independent variable, it is called multiple linear regression. </p>"
      ]
    },
    {
      "cell_type": "code",
      "metadata": {
        "id": "phrskIhScy_K",
        "colab_type": "code",
        "colab": {}
      },
      "source": [
        "import pandas as pd\n",
        "import numpy as np  \n",
        "import matplotlib.pyplot as plt  \n",
        "import seaborn as sns\n",
        "import warnings\n",
        "warnings.filterwarnings('ignore',category=FutureWarning)\n",
        "warnings.filterwarnings('ignore',category=UserWarning)\n",
        "warnings.filterwarnings('ignore',category=DeprecationWarning)\n",
        "%matplotlib inline"
      ],
      "execution_count": 3,
      "outputs": []
    },
    {
      "cell_type": "markdown",
      "metadata": {
        "id": "feZQMfE5rVg1",
        "colab_type": "text"
      },
      "source": [
        "<h3>Disclaimer</h3>\n",
        "<p>The result is not meant for any commercial or reference purpose. This study is purely for educational purpose only. The dataset source is provided by <i>The Spark Foundation</i>.</p>"
      ]
    },
    {
      "cell_type": "code",
      "metadata": {
        "id": "Crp02jFOqpE0",
        "colab_type": "code",
        "colab": {
          "base_uri": "https://localhost:8080/",
          "height": 199
        },
        "outputId": "0a9f2935-d5f3-44df-98b9-5770bf026576"
      },
      "source": [
        "df = pd.read_csv(\"http://bit.ly/w-data\")\n",
        "df.head()"
      ],
      "execution_count": 2,
      "outputs": [
        {
          "output_type": "execute_result",
          "data": {
            "text/html": [
              "<div>\n",
              "<style scoped>\n",
              "    .dataframe tbody tr th:only-of-type {\n",
              "        vertical-align: middle;\n",
              "    }\n",
              "\n",
              "    .dataframe tbody tr th {\n",
              "        vertical-align: top;\n",
              "    }\n",
              "\n",
              "    .dataframe thead th {\n",
              "        text-align: right;\n",
              "    }\n",
              "</style>\n",
              "<table border=\"1\" class=\"dataframe\">\n",
              "  <thead>\n",
              "    <tr style=\"text-align: right;\">\n",
              "      <th></th>\n",
              "      <th>Hours</th>\n",
              "      <th>Scores</th>\n",
              "    </tr>\n",
              "  </thead>\n",
              "  <tbody>\n",
              "    <tr>\n",
              "      <th>0</th>\n",
              "      <td>2.5</td>\n",
              "      <td>21</td>\n",
              "    </tr>\n",
              "    <tr>\n",
              "      <th>1</th>\n",
              "      <td>5.1</td>\n",
              "      <td>47</td>\n",
              "    </tr>\n",
              "    <tr>\n",
              "      <th>2</th>\n",
              "      <td>3.2</td>\n",
              "      <td>27</td>\n",
              "    </tr>\n",
              "    <tr>\n",
              "      <th>3</th>\n",
              "      <td>8.5</td>\n",
              "      <td>75</td>\n",
              "    </tr>\n",
              "    <tr>\n",
              "      <th>4</th>\n",
              "      <td>3.5</td>\n",
              "      <td>30</td>\n",
              "    </tr>\n",
              "  </tbody>\n",
              "</table>\n",
              "</div>"
            ],
            "text/plain": [
              "   Hours  Scores\n",
              "0    2.5      21\n",
              "1    5.1      47\n",
              "2    3.2      27\n",
              "3    8.5      75\n",
              "4    3.5      30"
            ]
          },
          "metadata": {
            "tags": []
          },
          "execution_count": 2
        }
      ]
    },
    {
      "cell_type": "markdown",
      "metadata": {
        "id": "4cQXJ5bVsJN1",
        "colab_type": "text"
      },
      "source": [
        "<p>This dataset contains data about the performance of students based upon different hour of study.</p>"
      ]
    },
    {
      "cell_type": "markdown",
      "metadata": {
        "id": "f2phALeVtWNF",
        "colab_type": "text"
      },
      "source": [
        "<h3>What is the shape of dataset?</h3>"
      ]
    },
    {
      "cell_type": "code",
      "metadata": {
        "id": "qSTkXiJ_sBe9",
        "colab_type": "code",
        "colab": {
          "base_uri": "https://localhost:8080/",
          "height": 52
        },
        "outputId": "94d79a30-4041-49b6-a833-968a5c409468"
      },
      "source": [
        "print('Number of Rows:',df.shape[0],'\\nNumber of Columns:',df.shape[1])"
      ],
      "execution_count": 4,
      "outputs": [
        {
          "output_type": "stream",
          "text": [
            "Number of Rows: 25 \n",
            "Number of Columns: 2\n"
          ],
          "name": "stdout"
        }
      ]
    },
    {
      "cell_type": "markdown",
      "metadata": {
        "id": "3cQYXV-guCfk",
        "colab_type": "text"
      },
      "source": [
        "<h3>2-D distribution plot Hours v/s Score</h3>"
      ]
    },
    {
      "cell_type": "code",
      "metadata": {
        "id": "rNMua8rLwCAt",
        "colab_type": "code",
        "colab": {
          "base_uri": "https://localhost:8080/",
          "height": 295
        },
        "outputId": "a9ec9894-f03d-434f-e6e1-9bac5919d1d0"
      },
      "source": [
        "#Reference: https://matplotlib.org/3.1.0/api/markers_api.html\n",
        "df.plot(x = 'Hours', y = 'Scores',style = 'D',color = 'r')\n",
        "plt.title('Hours vs Scores')  \n",
        "plt.xlabel('Hours of study')  \n",
        "plt.ylabel('Score')  \n",
        "plt.show()"
      ],
      "execution_count": 5,
      "outputs": [
        {
          "output_type": "display_data",
          "data": {
            "image/png": "[encoded data removed]",
            "text/plain": [
              "<Figure size 432x288 with 1 Axes>"
            ]
          },
          "metadata": {
            "tags": [],
            "needs_background": "light"
          }
        }
      ]
    },
    {
      "cell_type": "code",
      "metadata": {
        "id": "GbbONnP38_mK",
        "colab_type": "code",
        "colab": {
          "base_uri": "https://localhost:8080/",
          "height": 70
        },
        "outputId": "9710a79b-2118-4fd4-d9e9-1597d8a26b9e"
      },
      "source": [
        "df.isnull().sum()"
      ],
      "execution_count": 6,
      "outputs": [
        {
          "output_type": "execute_result",
          "data": {
            "text/plain": [
              "Hours     0\n",
              "Scores    0\n",
              "dtype: int64"
            ]
          },
          "metadata": {
            "tags": []
          },
          "execution_count": 6
        }
      ]
    },
    {
      "cell_type": "markdown",
      "metadata": {
        "id": "LwYdvjE-h1QM",
        "colab_type": "text"
      },
      "source": [
        "<h3>Heat-Map</h3>"
      ]
    },
    {
      "cell_type": "code",
      "metadata": {
        "id": "gHXMla11hxX6",
        "colab_type": "code",
        "colab": {
          "base_uri": "https://localhost:8080/",
          "height": 578
        },
        "outputId": "61487eb9-f6a2-428e-f89b-6262257ce220"
      },
      "source": [
        "corr = df.corr()\n",
        "plt.figure(figsize=(10,10))\n",
        "_ = sns.heatmap(corr,vmax=1,square=True,annot=True,cmap='YlGnBu')"
      ],
      "execution_count": 8,
      "outputs": [
        {
          "output_type": "display_data",
          "data": {
            "image/png": "[encoded data removed]",
            "text/plain": [
              "<Figure size 720x720 with 2 Axes>"
            ]
          },
          "metadata": {
            "tags": [],
            "needs_background": "light"
          }
        }
      ]
    },
    {
      "cell_type": "code",
      "metadata": {
        "id": "LTdLW6Dpinyk",
        "colab_type": "code",
        "colab": {
          "base_uri": "https://localhost:8080/",
          "height": 296
        },
        "outputId": "82bf9491-201d-4f34-8026-54bb14672bee"
      },
      "source": [
        "#Regression plot\n",
        "\n",
        "_ = sns.regplot(x = 'Hours',y = 'Scores',data = df,marker = 'D',color = 'r')\n",
        "plt.xlim(1,10)"
      ],
      "execution_count": 14,
      "outputs": [
        {
          "output_type": "execute_result",
          "data": {
            "text/plain": [
              "(1.0, 10.0)"
            ]
          },
          "metadata": {
            "tags": []
          },
          "execution_count": 14
        },
        {
          "output_type": "display_data",
          "data": {
            "image/png": "[encoded data removed]",
            "text/plain": [
              "<Figure size 432x288 with 1 Axes>"
            ]
          },
          "metadata": {
            "tags": [],
            "needs_background": "light"
          }
        }
      ]
    },
    {
      "cell_type": "markdown",
      "metadata": {
        "id": "MWGlC8LYiJY4",
        "colab_type": "text"
      },
      "source": [
        "<p>It is clearly seen that their is a positive relation between <b>Hours</b> and <b>Scores</b>.</p>"
      ]
    },
    {
      "cell_type": "markdown",
      "metadata": {
        "id": "b1fHphDqkWjO",
        "colab_type": "text"
      },
      "source": [
        "<h3>Data-splitting</h3>"
      ]
    },
    {
      "cell_type": "code",
      "metadata": {
        "id": "GF6qexddhBJt",
        "colab_type": "code",
        "colab": {}
      },
      "source": [
        "from sklearn.model_selection import train_test_split\n",
        "features = df.drop('Scores',axis=1)              \n",
        "labels = df['Scores']\n",
        "x_train,x_test,y_train,y_test = train_test_split(features,labels,test_size = 0.2,random_state = 10)"
      ],
      "execution_count": 15,
      "outputs": []
    },
    {
      "cell_type": "markdown",
      "metadata": {
        "id": "7rEuIFuMlFbm",
        "colab_type": "text"
      },
      "source": [
        "<h3>Model-building using linear regression</h3>"
      ]
    },
    {
      "cell_type": "code",
      "metadata": {
        "id": "KnsYASJwksJE",
        "colab_type": "code",
        "colab": {}
      },
      "source": [
        "from sklearn.linear_model import LinearRegression\n",
        "lr = LinearRegression()"
      ],
      "execution_count": 21,
      "outputs": []
    },
    {
      "cell_type": "code",
      "metadata": {
        "id": "20aTcdy-lOQ-",
        "colab_type": "code",
        "colab": {
          "base_uri": "https://localhost:8080/",
          "height": 34
        },
        "outputId": "ed965583-8069-4e37-a8ef-7f8267287029"
      },
      "source": [
        "lr.fit(x_train,y_train)"
      ],
      "execution_count": 22,
      "outputs": [
        {
          "output_type": "execute_result",
          "data": {
            "text/plain": [
              "LinearRegression(copy_X=True, fit_intercept=True, n_jobs=None, normalize=False)"
            ]
          },
          "metadata": {
            "tags": []
          },
          "execution_count": 22
        }
      ]
    },
    {
      "cell_type": "code",
      "metadata": {
        "id": "dugACRzolVhs",
        "colab_type": "code",
        "colab": {
          "base_uri": "https://localhost:8080/",
          "height": 34
        },
        "outputId": "e4d0f86d-40ea-4303-ac59-53a26a1cd4ec"
      },
      "source": [
        "Yhat_lr=lr.predict(x_test)\n",
        "Yhat_lr"
      ],
      "execution_count": 25,
      "outputs": [
        {
          "output_type": "execute_result",
          "data": {
            "text/plain": [
              "array([17.37142335, 52.70292295, 35.03717315, 34.05574261, 46.81433968])"
            ]
          },
          "metadata": {
            "tags": []
          },
          "execution_count": 25
        }
      ]
    },
    {
      "cell_type": "code",
      "metadata": {
        "id": "tLu6b9bVldbN",
        "colab_type": "code",
        "colab": {
          "base_uri": "https://localhost:8080/",
          "height": 122
        },
        "outputId": "22e6149d-dabe-4fd9-8cc0-b1629431cfe8"
      },
      "source": [
        "y_test"
      ],
      "execution_count": 26,
      "outputs": [
        {
          "output_type": "execute_result",
          "data": {
            "text/plain": [
              "5     20\n",
              "1     47\n",
              "13    42\n",
              "2     27\n",
              "12    41\n",
              "Name: Scores, dtype: int64"
            ]
          },
          "metadata": {
            "tags": []
          },
          "execution_count": 26
        }
      ]
    },
    {
      "cell_type": "code",
      "metadata": {
        "id": "ZeqpMKhxln3y",
        "colab_type": "code",
        "colab": {
          "base_uri": "https://localhost:8080/",
          "height": 34
        },
        "outputId": "74de84fc-ac13-4c27-b998-ca5fafa503db"
      },
      "source": [
        "lr.intercept_ #scores when hours of study is zero"
      ],
      "execution_count": 27,
      "outputs": [
        {
          "output_type": "execute_result",
          "data": {
            "text/plain": [
              "2.649965189403865"
            ]
          },
          "metadata": {
            "tags": []
          },
          "execution_count": 27
        }
      ]
    },
    {
      "cell_type": "code",
      "metadata": {
        "id": "0r0v-CKGly6H",
        "colab_type": "code",
        "colab": {
          "base_uri": "https://localhost:8080/",
          "height": 34
        },
        "outputId": "22eaabe7-2613-4ded-921e-2de679a35d85"
      },
      "source": [
        "lr.coef_ "
      ],
      "execution_count": 28,
      "outputs": [
        {
          "output_type": "execute_result",
          "data": {
            "text/plain": [
              "array([9.81430544])"
            ]
          },
          "metadata": {
            "tags": []
          },
          "execution_count": 28
        }
      ]
    },
    {
      "cell_type": "markdown",
      "metadata": {
        "id": "y3wtQQManwlx",
        "colab_type": "text"
      },
      "source": [
        "$r{2}$ or Coefficient of Determination"
      ]
    },
    {
      "cell_type": "code",
      "metadata": {
        "id": "mPLNYMVgoCWL",
        "colab_type": "code",
        "colab": {
          "base_uri": "https://localhost:8080/",
          "height": 34
        },
        "outputId": "5258ef16-cc94-4523-a95b-f3754ffdde59"
      },
      "source": [
        "from sklearn.metrics import r2_score,mean_squared_error\n",
        "r2_score(y_test,Yhat_lr)"
      ],
      "execution_count": 34,
      "outputs": [
        {
          "output_type": "execute_result",
          "data": {
            "text/plain": [
              "0.6683995499740198"
            ]
          },
          "metadata": {
            "tags": []
          },
          "execution_count": 34
        }
      ]
    },
    {
      "cell_type": "code",
      "metadata": {
        "id": "ijjHD2XnoGsh",
        "colab_type": "code",
        "colab": {
          "base_uri": "https://localhost:8080/",
          "height": 34
        },
        "outputId": "d6737c02-8846-46c5-9b84-16258098c392"
      },
      "source": [
        "lr.score(x_test,y_test)"
      ],
      "execution_count": 31,
      "outputs": [
        {
          "output_type": "execute_result",
          "data": {
            "text/plain": [
              "0.6683995499740198"
            ]
          },
          "metadata": {
            "tags": []
          },
          "execution_count": 31
        }
      ]
    },
    {
      "cell_type": "code",
      "metadata": {
        "id": "wq1PI6_gpvOR",
        "colab_type": "code",
        "colab": {
          "base_uri": "https://localhost:8080/",
          "height": 34
        },
        "outputId": "996cfe4a-2ea8-4907-aab3-cab176617f67"
      },
      "source": [
        "mean_squared_error(y_test,Yhat_lr)"
      ],
      "execution_count": 35,
      "outputs": [
        {
          "output_type": "execute_result",
          "data": {
            "text/plain": [
              "34.30075055068739"
            ]
          },
          "metadata": {
            "tags": []
          },
          "execution_count": 35
        }
      ]
    },
    {
      "cell_type": "markdown",
      "metadata": {
        "id": "nXvtFpHAoU7_",
        "colab_type": "text"
      },
      "source": [
        "Distribution plot between predicted and real values"
      ]
    },
    {
      "cell_type": "code",
      "metadata": {
        "id": "J0PUqkurl18c",
        "colab_type": "code",
        "colab": {
          "base_uri": "https://localhost:8080/",
          "height": 295
        },
        "outputId": "a3ab2118-a48f-4b23-f7db-8f9eafebecf6"
      },
      "source": [
        "sns.distplot(y_test,hist=False,color='r',label='Actual Score')\n",
        "plt.title('Actual vs Predicted Scores')\n",
        "g=sns.distplot(Yhat_lr,hist=False,color='b',label='Predicted Scores')"
      ],
      "execution_count": 32,
      "outputs": [
        {
          "output_type": "display_data",
          "data": {
            "image/png": "[encoded data removed]",
            "text/plain": [
              "<Figure size 432x288 with 1 Axes>"
            ]
          },
          "metadata": {
            "tags": [],
            "needs_background": "light"
          }
        }
      ]
    },
    {
      "cell_type": "code",
      "metadata": {
        "id": "GNyVo9JZmayj",
        "colab_type": "code",
        "colab": {
          "base_uri": "https://localhost:8080/",
          "height": 199
        },
        "outputId": "56dfe11e-ece1-4f6f-d4d9-e9fb109523fd"
      },
      "source": [
        "df1 = pd.DataFrame({'Actual':y_test,'Predicted':Yhat_lr})\n",
        "df1"
      ],
      "execution_count": 33,
      "outputs": [
        {
          "output_type": "execute_result",
          "data": {
            "text/html": [
              "<div>\n",
              "<style scoped>\n",
              "    .dataframe tbody tr th:only-of-type {\n",
              "        vertical-align: middle;\n",
              "    }\n",
              "\n",
              "    .dataframe tbody tr th {\n",
              "        vertical-align: top;\n",
              "    }\n",
              "\n",
              "    .dataframe thead th {\n",
              "        text-align: right;\n",
              "    }\n",
              "</style>\n",
              "<table border=\"1\" class=\"dataframe\">\n",
              "  <thead>\n",
              "    <tr style=\"text-align: right;\">\n",
              "      <th></th>\n",
              "      <th>Actual</th>\n",
              "      <th>Predicted</th>\n",
              "    </tr>\n",
              "  </thead>\n",
              "  <tbody>\n",
              "    <tr>\n",
              "      <th>5</th>\n",
              "      <td>20</td>\n",
              "      <td>17.371423</td>\n",
              "    </tr>\n",
              "    <tr>\n",
              "      <th>1</th>\n",
              "      <td>47</td>\n",
              "      <td>52.702923</td>\n",
              "    </tr>\n",
              "    <tr>\n",
              "      <th>13</th>\n",
              "      <td>42</td>\n",
              "      <td>35.037173</td>\n",
              "    </tr>\n",
              "    <tr>\n",
              "      <th>2</th>\n",
              "      <td>27</td>\n",
              "      <td>34.055743</td>\n",
              "    </tr>\n",
              "    <tr>\n",
              "      <th>12</th>\n",
              "      <td>41</td>\n",
              "      <td>46.814340</td>\n",
              "    </tr>\n",
              "  </tbody>\n",
              "</table>\n",
              "</div>"
            ],
            "text/plain": [
              "    Actual  Predicted\n",
              "5       20  17.371423\n",
              "1       47  52.702923\n",
              "13      42  35.037173\n",
              "2       27  34.055743\n",
              "12      41  46.814340"
            ]
          },
          "metadata": {
            "tags": []
          },
          "execution_count": 33
        }
      ]
    },
    {
      "cell_type": "code",
      "metadata": {
        "id": "gg3-x9RtpCrN",
        "colab_type": "code",
        "colab": {
          "base_uri": "https://localhost:8080/",
          "height": 34
        },
        "outputId": "2cc0a8e3-1ddc-4696-f791-62d1f572ecc9"
      },
      "source": [
        "#Predicting the score of a student who studies 9.25 hours\n",
        "round(lr.predict(np.array([9.25]).reshape(1,1))[0],2)"
      ],
      "execution_count": 51,
      "outputs": [
        {
          "output_type": "execute_result",
          "data": {
            "text/plain": [
              "93.43"
            ]
          },
          "metadata": {
            "tags": []
          },
          "execution_count": 51
        }
      ]
    },
    {
      "cell_type": "code",
      "metadata": {
        "id": "mt8q4_IwsdCv",
        "colab_type": "code",
        "colab": {
          "base_uri": "https://localhost:8080/",
          "height": 105
        },
        "outputId": "374574a6-1658-429a-a612-82b11ac3ec9f"
      },
      "source": [
        "#predicting the score of students who studies different hours\n",
        "\n",
        "for i in range(5,10):\n",
        "    print('Student who studies',i,\n",
        "          'hours can score {:.2f}'.format(lr.predict(np.array([i]).reshape(1,1))[0]))"
      ],
      "execution_count": 50,
      "outputs": [
        {
          "output_type": "stream",
          "text": [
            "Student who studies 5 hours can score 51.72\n",
            "Student who studies 6 hours can score 61.54\n",
            "Student who studies 7 hours can score 71.35\n",
            "Student who studies 8 hours can score 81.16\n",
            "Student who studies 9 hours can score 90.98\n"
          ],
          "name": "stdout"
        }
      ]
    }
  ]
}