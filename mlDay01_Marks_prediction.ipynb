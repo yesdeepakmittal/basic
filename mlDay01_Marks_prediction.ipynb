{
  "nbformat": 4,
  "nbformat_minor": 0,
  "metadata": {
    "colab": {
      "name": "Marks_prediction",
      "provenance": [],
      "authorship_tag": "ABX9TyP/CR7HYY70xBvasBLID3U+"
    },
    "kernelspec": {
      "name": "python3",
      "display_name": "Python 3"
    }
  },
  "cells": [
    {
      "cell_type": "markdown",
      "metadata": {
        "id": "qrRCno78gBYL",
        "colab_type": "text"
      },
      "source": [
        "<h3>Linear Regression📈</h3>\n",
        "\n",
        "---\n",
        "\n",
        "\n",
        "\n",
        "<p>A linear Regression is an algorithm which is use to determine a relation between two or more variables called <b><i>dependent variable</i></b> and <b><i>independent variable(s)</i></b>.</p>\n",
        "<p>It is an predictive modelling technique which is used to predict the result based upon some past results. If there are one independent variable, it is called simple linear regression and if there are mulitple independent variable, it is called multiple linear regression. </p>"
      ]
    },
    {
      "cell_type": "code",
      "metadata": {
        "id": "phrskIhScy_K",
        "colab_type": "code",
        "colab": {}
      },
      "source": [
        "import pandas as pd\n",
        "import numpy as np  \n",
        "import matplotlib.pyplot as plt  \n",
        "import seaborn as sns\n",
        "import warnings\n",
        "warnings.filterwarnings('ignore',category=FutureWarning)\n",
        "warnings.filterwarnings('ignore',category=UserWarning)\n",
        "warnings.filterwarnings('ignore',category=DeprecationWarning)\n",
        "%matplotlib inline"
      ],
      "execution_count": 2,
      "outputs": []
    },
    {
      "cell_type": "markdown",
      "metadata": {
        "id": "feZQMfE5rVg1",
        "colab_type": "text"
      },
      "source": [
        "<h3>Disclaimer</h3>\n",
        "<p>The result is not meant for any commercial or reference purpose. This study is purely for educational purpose only. The dataset source is provided by <i>The Spark Foundation</i>.</p>"
      ]
    },
    {
      "cell_type": "code",
      "metadata": {
        "id": "Crp02jFOqpE0",
        "colab_type": "code",
        "colab": {
          "base_uri": "https://localhost:8080/",
          "height": 199
        },
        "outputId": "0ee7944b-fd36-4fb6-d4b2-9b9ace5a2256"
      },
      "source": [
        "df = pd.read_csv(\"http://bit.ly/w-data\")\n",
        "df.head()"
      ],
      "execution_count": 3,
      "outputs": [
        {
          "output_type": "execute_result",
          "data": {
            "text/html": [
              "<div>\n",
              "<style scoped>\n",
              "    .dataframe tbody tr th:only-of-type {\n",
              "        vertical-align: middle;\n",
              "    }\n",
              "\n",
              "    .dataframe tbody tr th {\n",
              "        vertical-align: top;\n",
              "    }\n",
              "\n",
              "    .dataframe thead th {\n",
              "        text-align: right;\n",
              "    }\n",
              "</style>\n",
              "<table border=\"1\" class=\"dataframe\">\n",
              "  <thead>\n",
              "    <tr style=\"text-align: right;\">\n",
              "      <th></th>\n",
              "      <th>Hours</th>\n",
              "      <th>Scores</th>\n",
              "    </tr>\n",
              "  </thead>\n",
              "  <tbody>\n",
              "    <tr>\n",
              "      <th>0</th>\n",
              "      <td>2.5</td>\n",
              "      <td>21</td>\n",
              "    </tr>\n",
              "    <tr>\n",
              "      <th>1</th>\n",
              "      <td>5.1</td>\n",
              "      <td>47</td>\n",
              "    </tr>\n",
              "    <tr>\n",
              "      <th>2</th>\n",
              "      <td>3.2</td>\n",
              "      <td>27</td>\n",
              "    </tr>\n",
              "    <tr>\n",
              "      <th>3</th>\n",
              "      <td>8.5</td>\n",
              "      <td>75</td>\n",
              "    </tr>\n",
              "    <tr>\n",
              "      <th>4</th>\n",
              "      <td>3.5</td>\n",
              "      <td>30</td>\n",
              "    </tr>\n",
              "  </tbody>\n",
              "</table>\n",
              "</div>"
            ],
            "text/plain": [
              "   Hours  Scores\n",
              "0    2.5      21\n",
              "1    5.1      47\n",
              "2    3.2      27\n",
              "3    8.5      75\n",
              "4    3.5      30"
            ]
          },
          "metadata": {
            "tags": []
          },
          "execution_count": 3
        }
      ]
    },
    {
      "cell_type": "markdown",
      "metadata": {
        "id": "4cQXJ5bVsJN1",
        "colab_type": "text"
      },
      "source": [
        "<p>This dataset contains data about the performance of students based upon different hour of study. Our task is to predict the Score if someone studies for 9.25hrs.</p>"
      ]
    },
    {
      "cell_type": "code",
      "metadata": {
        "id": "qSTkXiJ_sBe9",
        "colab_type": "code",
        "colab": {}
      },
      "source": [
        ""
      ],
      "execution_count": null,
      "outputs": []
    }
  ]
}