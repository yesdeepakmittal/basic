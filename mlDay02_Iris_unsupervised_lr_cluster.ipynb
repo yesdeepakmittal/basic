{
  "nbformat": 4,
  "nbformat_minor": 0,
  "metadata": {
    "colab": {
      "name": "mlDay02_Iris_unsupervised_lr_cluster",
      "provenance": [],
      "authorship_tag": "ABX9TyMsanuER58HJTnVOQvo5t9W"
    },
    "kernelspec": {
      "name": "python3",
      "display_name": "Python 3"
    }
  },
  "cells": [
    {
      "cell_type": "code",
      "metadata": {
        "id": "red0lE2M0i7v",
        "colab_type": "code",
        "colab": {}
      },
      "source": [
        "import numpy as np\n",
        "import pandas as pd\n",
        "import seaborn as sns\n",
        "import matplotlib.pyplot as plt\n",
        "import plotly.express as px\n",
        "import warnings\n",
        "warnings.filterwarnings('ignore',category=FutureWarning)\n",
        "warnings.filterwarnings('ignore',category=UserWarning)\n",
        "warnings.filterwarnings('ignore',category=DeprecationWarning)\n",
        "%matplotlib inline"
      ],
      "execution_count": 101,
      "outputs": []
    },
    {
      "cell_type": "code",
      "metadata": {
        "id": "oPo63aD8dLsa",
        "colab_type": "code",
        "colab": {}
      },
      "source": [
        "from sklearn import datasets\n",
        "from sklearn.cluster import KMeans"
      ],
      "execution_count": 102,
      "outputs": []
    },
    {
      "cell_type": "code",
      "metadata": {
        "id": "v5FAqeD21SOP",
        "colab_type": "code",
        "colab": {}
      },
      "source": [
        "#Displaying static image https://plotly.com/python/orca-management/\n",
        "!pip install plotly>=4.7.1\n",
        "!wget https://github.com/plotly/orca/releases/download/v1.2.1/orca-1.2.1-x86_64.AppImage -O /usr/local/bin/orca\n",
        "!chmod +x /usr/local/bin/orca\n",
        "!apt-get install xvfb libgtk2.0-0 libgconf-2-4"
      ],
      "execution_count": null,
      "outputs": []
    },
    {
      "cell_type": "code",
      "metadata": {
        "id": "pEbL_OlseTBV",
        "colab_type": "code",
        "colab": {}
      },
      "source": [
        "df = datasets.load_iris() #also from here px.data.iris()"
      ],
      "execution_count": null,
      "outputs": []
    },
    {
      "cell_type": "markdown",
      "metadata": {
        "id": "oLTiZIsvhIpe",
        "colab_type": "text"
      },
      "source": [
        "<b>df</b> is a .json dataset containing data about features, target, features names, target names, etc. Our task is to read data into .json format and make a dataframe of it so that it will become more readible. Print **df** data into another cell if you want to look inside it. "
      ]
    },
    {
      "cell_type": "code",
      "metadata": {
        "id": "o78n2Bs4iADC",
        "colab_type": "code",
        "colab": {
          "base_uri": "https://localhost:8080/",
          "height": 287
        },
        "outputId": "4782d77e-40e9-4818-e150-e151b2d57f1e"
      },
      "source": [
        "temp = df['data']\n",
        "print(temp[:5,:])\n",
        "temp = pd.DataFrame(temp)\n",
        "temp.head()"
      ],
      "execution_count": null,
      "outputs": [
        {
          "output_type": "stream",
          "text": [
            "[[5.1 3.5 1.4 0.2]\n",
            " [4.9 3.  1.4 0.2]\n",
            " [4.7 3.2 1.3 0.2]\n",
            " [4.6 3.1 1.5 0.2]\n",
            " [5.  3.6 1.4 0.2]]\n"
          ],
          "name": "stdout"
        },
        {
          "output_type": "execute_result",
          "data": {
            "text/html": [
              "<div>\n",
              "<style scoped>\n",
              "    .dataframe tbody tr th:only-of-type {\n",
              "        vertical-align: middle;\n",
              "    }\n",
              "\n",
              "    .dataframe tbody tr th {\n",
              "        vertical-align: top;\n",
              "    }\n",
              "\n",
              "    .dataframe thead th {\n",
              "        text-align: right;\n",
              "    }\n",
              "</style>\n",
              "<table border=\"1\" class=\"dataframe\">\n",
              "  <thead>\n",
              "    <tr style=\"text-align: right;\">\n",
              "      <th></th>\n",
              "      <th>0</th>\n",
              "      <th>1</th>\n",
              "      <th>2</th>\n",
              "      <th>3</th>\n",
              "    </tr>\n",
              "  </thead>\n",
              "  <tbody>\n",
              "    <tr>\n",
              "      <th>0</th>\n",
              "      <td>5.1</td>\n",
              "      <td>3.5</td>\n",
              "      <td>1.4</td>\n",
              "      <td>0.2</td>\n",
              "    </tr>\n",
              "    <tr>\n",
              "      <th>1</th>\n",
              "      <td>4.9</td>\n",
              "      <td>3.0</td>\n",
              "      <td>1.4</td>\n",
              "      <td>0.2</td>\n",
              "    </tr>\n",
              "    <tr>\n",
              "      <th>2</th>\n",
              "      <td>4.7</td>\n",
              "      <td>3.2</td>\n",
              "      <td>1.3</td>\n",
              "      <td>0.2</td>\n",
              "    </tr>\n",
              "    <tr>\n",
              "      <th>3</th>\n",
              "      <td>4.6</td>\n",
              "      <td>3.1</td>\n",
              "      <td>1.5</td>\n",
              "      <td>0.2</td>\n",
              "    </tr>\n",
              "    <tr>\n",
              "      <th>4</th>\n",
              "      <td>5.0</td>\n",
              "      <td>3.6</td>\n",
              "      <td>1.4</td>\n",
              "      <td>0.2</td>\n",
              "    </tr>\n",
              "  </tbody>\n",
              "</table>\n",
              "</div>"
            ],
            "text/plain": [
              "     0    1    2    3\n",
              "0  5.1  3.5  1.4  0.2\n",
              "1  4.9  3.0  1.4  0.2\n",
              "2  4.7  3.2  1.3  0.2\n",
              "3  4.6  3.1  1.5  0.2\n",
              "4  5.0  3.6  1.4  0.2"
            ]
          },
          "metadata": {
            "tags": []
          },
          "execution_count": 27
        }
      ]
    },
    {
      "cell_type": "code",
      "metadata": {
        "id": "mxGM7yckieHp",
        "colab_type": "code",
        "colab": {
          "base_uri": "https://localhost:8080/",
          "height": 87
        },
        "outputId": "4c7c9971-14f1-402c-a42e-979e45779f4f"
      },
      "source": [
        "df['feature_names']"
      ],
      "execution_count": null,
      "outputs": [
        {
          "output_type": "execute_result",
          "data": {
            "text/plain": [
              "['sepal length (cm)',\n",
              " 'sepal width (cm)',\n",
              " 'petal length (cm)',\n",
              " 'petal width (cm)']"
            ]
          },
          "metadata": {
            "tags": []
          },
          "execution_count": 29
        }
      ]
    },
    {
      "cell_type": "code",
      "metadata": {
        "id": "BCXecNZnhpm-",
        "colab_type": "code",
        "colab": {
          "base_uri": "https://localhost:8080/",
          "height": 199
        },
        "outputId": "462d587b-a8f1-4869-9d58-1675c1b9378e"
      },
      "source": [
        "temp.columns = df['feature_names']\n",
        "temp.head()"
      ],
      "execution_count": null,
      "outputs": [
        {
          "output_type": "execute_result",
          "data": {
            "text/html": [
              "<div>\n",
              "<style scoped>\n",
              "    .dataframe tbody tr th:only-of-type {\n",
              "        vertical-align: middle;\n",
              "    }\n",
              "\n",
              "    .dataframe tbody tr th {\n",
              "        vertical-align: top;\n",
              "    }\n",
              "\n",
              "    .dataframe thead th {\n",
              "        text-align: right;\n",
              "    }\n",
              "</style>\n",
              "<table border=\"1\" class=\"dataframe\">\n",
              "  <thead>\n",
              "    <tr style=\"text-align: right;\">\n",
              "      <th></th>\n",
              "      <th>sepal length (cm)</th>\n",
              "      <th>sepal width (cm)</th>\n",
              "      <th>petal length (cm)</th>\n",
              "      <th>petal width (cm)</th>\n",
              "    </tr>\n",
              "  </thead>\n",
              "  <tbody>\n",
              "    <tr>\n",
              "      <th>0</th>\n",
              "      <td>5.1</td>\n",
              "      <td>3.5</td>\n",
              "      <td>1.4</td>\n",
              "      <td>0.2</td>\n",
              "    </tr>\n",
              "    <tr>\n",
              "      <th>1</th>\n",
              "      <td>4.9</td>\n",
              "      <td>3.0</td>\n",
              "      <td>1.4</td>\n",
              "      <td>0.2</td>\n",
              "    </tr>\n",
              "    <tr>\n",
              "      <th>2</th>\n",
              "      <td>4.7</td>\n",
              "      <td>3.2</td>\n",
              "      <td>1.3</td>\n",
              "      <td>0.2</td>\n",
              "    </tr>\n",
              "    <tr>\n",
              "      <th>3</th>\n",
              "      <td>4.6</td>\n",
              "      <td>3.1</td>\n",
              "      <td>1.5</td>\n",
              "      <td>0.2</td>\n",
              "    </tr>\n",
              "    <tr>\n",
              "      <th>4</th>\n",
              "      <td>5.0</td>\n",
              "      <td>3.6</td>\n",
              "      <td>1.4</td>\n",
              "      <td>0.2</td>\n",
              "    </tr>\n",
              "  </tbody>\n",
              "</table>\n",
              "</div>"
            ],
            "text/plain": [
              "   sepal length (cm)  sepal width (cm)  petal length (cm)  petal width (cm)\n",
              "0                5.1               3.5                1.4               0.2\n",
              "1                4.9               3.0                1.4               0.2\n",
              "2                4.7               3.2                1.3               0.2\n",
              "3                4.6               3.1                1.5               0.2\n",
              "4                5.0               3.6                1.4               0.2"
            ]
          },
          "metadata": {
            "tags": []
          },
          "execution_count": 30
        }
      ]
    },
    {
      "cell_type": "code",
      "metadata": {
        "id": "enrp1fkGjGZh",
        "colab_type": "code",
        "colab": {
          "base_uri": "https://localhost:8080/",
          "height": 199
        },
        "outputId": "039cb14d-2eea-4cd7-9457-920c183390b5"
      },
      "source": [
        "temp['target'] = df['target']\n",
        "temp.sample(5)"
      ],
      "execution_count": null,
      "outputs": [
        {
          "output_type": "execute_result",
          "data": {
            "text/html": [
              "<div>\n",
              "<style scoped>\n",
              "    .dataframe tbody tr th:only-of-type {\n",
              "        vertical-align: middle;\n",
              "    }\n",
              "\n",
              "    .dataframe tbody tr th {\n",
              "        vertical-align: top;\n",
              "    }\n",
              "\n",
              "    .dataframe thead th {\n",
              "        text-align: right;\n",
              "    }\n",
              "</style>\n",
              "<table border=\"1\" class=\"dataframe\">\n",
              "  <thead>\n",
              "    <tr style=\"text-align: right;\">\n",
              "      <th></th>\n",
              "      <th>sepal length (cm)</th>\n",
              "      <th>sepal width (cm)</th>\n",
              "      <th>petal length (cm)</th>\n",
              "      <th>petal width (cm)</th>\n",
              "      <th>target</th>\n",
              "    </tr>\n",
              "  </thead>\n",
              "  <tbody>\n",
              "    <tr>\n",
              "      <th>32</th>\n",
              "      <td>5.2</td>\n",
              "      <td>4.1</td>\n",
              "      <td>1.5</td>\n",
              "      <td>0.1</td>\n",
              "      <td>0</td>\n",
              "    </tr>\n",
              "    <tr>\n",
              "      <th>15</th>\n",
              "      <td>5.7</td>\n",
              "      <td>4.4</td>\n",
              "      <td>1.5</td>\n",
              "      <td>0.4</td>\n",
              "      <td>0</td>\n",
              "    </tr>\n",
              "    <tr>\n",
              "      <th>108</th>\n",
              "      <td>6.7</td>\n",
              "      <td>2.5</td>\n",
              "      <td>5.8</td>\n",
              "      <td>1.8</td>\n",
              "      <td>2</td>\n",
              "    </tr>\n",
              "    <tr>\n",
              "      <th>8</th>\n",
              "      <td>4.4</td>\n",
              "      <td>2.9</td>\n",
              "      <td>1.4</td>\n",
              "      <td>0.2</td>\n",
              "      <td>0</td>\n",
              "    </tr>\n",
              "    <tr>\n",
              "      <th>110</th>\n",
              "      <td>6.5</td>\n",
              "      <td>3.2</td>\n",
              "      <td>5.1</td>\n",
              "      <td>2.0</td>\n",
              "      <td>2</td>\n",
              "    </tr>\n",
              "  </tbody>\n",
              "</table>\n",
              "</div>"
            ],
            "text/plain": [
              "     sepal length (cm)  sepal width (cm)  ...  petal width (cm)  target\n",
              "32                 5.2               4.1  ...               0.1       0\n",
              "15                 5.7               4.4  ...               0.4       0\n",
              "108                6.7               2.5  ...               1.8       2\n",
              "8                  4.4               2.9  ...               0.2       0\n",
              "110                6.5               3.2  ...               2.0       2\n",
              "\n",
              "[5 rows x 5 columns]"
            ]
          },
          "metadata": {
            "tags": []
          },
          "execution_count": 33
        }
      ]
    },
    {
      "cell_type": "code",
      "metadata": {
        "id": "dfPPoOJ9jcIa",
        "colab_type": "code",
        "colab": {
          "base_uri": "https://localhost:8080/",
          "height": 34
        },
        "outputId": "6e7395b3-1cdb-4567-d589-aa1e20b9fa73"
      },
      "source": [
        "df['target_names']"
      ],
      "execution_count": null,
      "outputs": [
        {
          "output_type": "execute_result",
          "data": {
            "text/plain": [
              "array(['setosa', 'versicolor', 'virginica'], dtype='<U10')"
            ]
          },
          "metadata": {
            "tags": []
          },
          "execution_count": 38
        }
      ]
    },
    {
      "cell_type": "code",
      "metadata": {
        "id": "jZt-nyOomVX-",
        "colab_type": "code",
        "colab": {
          "base_uri": "https://localhost:8080/",
          "height": 199
        },
        "outputId": "fc8b12ac-01df-4654-d5b9-3adc09642eb7"
      },
      "source": [
        "temp['target_names'] = temp['target']\n",
        "temp.head()"
      ],
      "execution_count": null,
      "outputs": [
        {
          "output_type": "execute_result",
          "data": {
            "text/html": [
              "<div>\n",
              "<style scoped>\n",
              "    .dataframe tbody tr th:only-of-type {\n",
              "        vertical-align: middle;\n",
              "    }\n",
              "\n",
              "    .dataframe tbody tr th {\n",
              "        vertical-align: top;\n",
              "    }\n",
              "\n",
              "    .dataframe thead th {\n",
              "        text-align: right;\n",
              "    }\n",
              "</style>\n",
              "<table border=\"1\" class=\"dataframe\">\n",
              "  <thead>\n",
              "    <tr style=\"text-align: right;\">\n",
              "      <th></th>\n",
              "      <th>sepal length (cm)</th>\n",
              "      <th>sepal width (cm)</th>\n",
              "      <th>petal length (cm)</th>\n",
              "      <th>petal width (cm)</th>\n",
              "      <th>target</th>\n",
              "      <th>target_names</th>\n",
              "    </tr>\n",
              "  </thead>\n",
              "  <tbody>\n",
              "    <tr>\n",
              "      <th>0</th>\n",
              "      <td>5.1</td>\n",
              "      <td>3.5</td>\n",
              "      <td>1.4</td>\n",
              "      <td>0.2</td>\n",
              "      <td>0</td>\n",
              "      <td>0</td>\n",
              "    </tr>\n",
              "    <tr>\n",
              "      <th>1</th>\n",
              "      <td>4.9</td>\n",
              "      <td>3.0</td>\n",
              "      <td>1.4</td>\n",
              "      <td>0.2</td>\n",
              "      <td>0</td>\n",
              "      <td>0</td>\n",
              "    </tr>\n",
              "    <tr>\n",
              "      <th>2</th>\n",
              "      <td>4.7</td>\n",
              "      <td>3.2</td>\n",
              "      <td>1.3</td>\n",
              "      <td>0.2</td>\n",
              "      <td>0</td>\n",
              "      <td>0</td>\n",
              "    </tr>\n",
              "    <tr>\n",
              "      <th>3</th>\n",
              "      <td>4.6</td>\n",
              "      <td>3.1</td>\n",
              "      <td>1.5</td>\n",
              "      <td>0.2</td>\n",
              "      <td>0</td>\n",
              "      <td>0</td>\n",
              "    </tr>\n",
              "    <tr>\n",
              "      <th>4</th>\n",
              "      <td>5.0</td>\n",
              "      <td>3.6</td>\n",
              "      <td>1.4</td>\n",
              "      <td>0.2</td>\n",
              "      <td>0</td>\n",
              "      <td>0</td>\n",
              "    </tr>\n",
              "  </tbody>\n",
              "</table>\n",
              "</div>"
            ],
            "text/plain": [
              "   sepal length (cm)  sepal width (cm)  ...  target  target_names\n",
              "0                5.1               3.5  ...       0             0\n",
              "1                4.9               3.0  ...       0             0\n",
              "2                4.7               3.2  ...       0             0\n",
              "3                4.6               3.1  ...       0             0\n",
              "4                5.0               3.6  ...       0             0\n",
              "\n",
              "[5 rows x 6 columns]"
            ]
          },
          "metadata": {
            "tags": []
          },
          "execution_count": 47
        }
      ]
    },
    {
      "cell_type": "code",
      "metadata": {
        "id": "nKzxbKaGmfMh",
        "colab_type": "code",
        "colab": {
          "base_uri": "https://localhost:8080/",
          "height": 351
        },
        "outputId": "cb4deed6-e49e-44b5-fd3b-c2341eb4f5ce"
      },
      "source": [
        "for i in range(3):\n",
        "    temp['target_names'] = temp['target_names'].replace({i:df['target_names'][i]})\n",
        "temp.sample(10)"
      ],
      "execution_count": null,
      "outputs": [
        {
          "output_type": "execute_result",
          "data": {
            "text/html": [
              "<div>\n",
              "<style scoped>\n",
              "    .dataframe tbody tr th:only-of-type {\n",
              "        vertical-align: middle;\n",
              "    }\n",
              "\n",
              "    .dataframe tbody tr th {\n",
              "        vertical-align: top;\n",
              "    }\n",
              "\n",
              "    .dataframe thead th {\n",
              "        text-align: right;\n",
              "    }\n",
              "</style>\n",
              "<table border=\"1\" class=\"dataframe\">\n",
              "  <thead>\n",
              "    <tr style=\"text-align: right;\">\n",
              "      <th></th>\n",
              "      <th>sepal length (cm)</th>\n",
              "      <th>sepal width (cm)</th>\n",
              "      <th>petal length (cm)</th>\n",
              "      <th>petal width (cm)</th>\n",
              "      <th>target</th>\n",
              "      <th>target_names</th>\n",
              "    </tr>\n",
              "  </thead>\n",
              "  <tbody>\n",
              "    <tr>\n",
              "      <th>20</th>\n",
              "      <td>5.4</td>\n",
              "      <td>3.4</td>\n",
              "      <td>1.7</td>\n",
              "      <td>0.2</td>\n",
              "      <td>0</td>\n",
              "      <td>setosa</td>\n",
              "    </tr>\n",
              "    <tr>\n",
              "      <th>93</th>\n",
              "      <td>5.0</td>\n",
              "      <td>2.3</td>\n",
              "      <td>3.3</td>\n",
              "      <td>1.0</td>\n",
              "      <td>1</td>\n",
              "      <td>versicolor</td>\n",
              "    </tr>\n",
              "    <tr>\n",
              "      <th>118</th>\n",
              "      <td>7.7</td>\n",
              "      <td>2.6</td>\n",
              "      <td>6.9</td>\n",
              "      <td>2.3</td>\n",
              "      <td>2</td>\n",
              "      <td>virginica</td>\n",
              "    </tr>\n",
              "    <tr>\n",
              "      <th>83</th>\n",
              "      <td>6.0</td>\n",
              "      <td>2.7</td>\n",
              "      <td>5.1</td>\n",
              "      <td>1.6</td>\n",
              "      <td>1</td>\n",
              "      <td>versicolor</td>\n",
              "    </tr>\n",
              "    <tr>\n",
              "      <th>31</th>\n",
              "      <td>5.4</td>\n",
              "      <td>3.4</td>\n",
              "      <td>1.5</td>\n",
              "      <td>0.4</td>\n",
              "      <td>0</td>\n",
              "      <td>setosa</td>\n",
              "    </tr>\n",
              "    <tr>\n",
              "      <th>145</th>\n",
              "      <td>6.7</td>\n",
              "      <td>3.0</td>\n",
              "      <td>5.2</td>\n",
              "      <td>2.3</td>\n",
              "      <td>2</td>\n",
              "      <td>virginica</td>\n",
              "    </tr>\n",
              "    <tr>\n",
              "      <th>78</th>\n",
              "      <td>6.0</td>\n",
              "      <td>2.9</td>\n",
              "      <td>4.5</td>\n",
              "      <td>1.5</td>\n",
              "      <td>1</td>\n",
              "      <td>versicolor</td>\n",
              "    </tr>\n",
              "    <tr>\n",
              "      <th>28</th>\n",
              "      <td>5.2</td>\n",
              "      <td>3.4</td>\n",
              "      <td>1.4</td>\n",
              "      <td>0.2</td>\n",
              "      <td>0</td>\n",
              "      <td>setosa</td>\n",
              "    </tr>\n",
              "    <tr>\n",
              "      <th>66</th>\n",
              "      <td>5.6</td>\n",
              "      <td>3.0</td>\n",
              "      <td>4.5</td>\n",
              "      <td>1.5</td>\n",
              "      <td>1</td>\n",
              "      <td>versicolor</td>\n",
              "    </tr>\n",
              "    <tr>\n",
              "      <th>33</th>\n",
              "      <td>5.5</td>\n",
              "      <td>4.2</td>\n",
              "      <td>1.4</td>\n",
              "      <td>0.2</td>\n",
              "      <td>0</td>\n",
              "      <td>setosa</td>\n",
              "    </tr>\n",
              "  </tbody>\n",
              "</table>\n",
              "</div>"
            ],
            "text/plain": [
              "     sepal length (cm)  sepal width (cm)  ...  target  target_names\n",
              "20                 5.4               3.4  ...       0        setosa\n",
              "93                 5.0               2.3  ...       1    versicolor\n",
              "118                7.7               2.6  ...       2     virginica\n",
              "83                 6.0               2.7  ...       1    versicolor\n",
              "31                 5.4               3.4  ...       0        setosa\n",
              "145                6.7               3.0  ...       2     virginica\n",
              "78                 6.0               2.9  ...       1    versicolor\n",
              "28                 5.2               3.4  ...       0        setosa\n",
              "66                 5.6               3.0  ...       1    versicolor\n",
              "33                 5.5               4.2  ...       0        setosa\n",
              "\n",
              "[10 rows x 6 columns]"
            ]
          },
          "metadata": {
            "tags": []
          },
          "execution_count": 48
        }
      ]
    },
    {
      "cell_type": "code",
      "metadata": {
        "id": "NltqWJnpwudi",
        "colab_type": "code",
        "colab": {
          "base_uri": "https://localhost:8080/",
          "height": 996
        },
        "outputId": "950f4e5b-6a3b-4ab0-dfd5-11417cf6e9a5"
      },
      "source": [
        "fig = px.scatter_3d(temp, x='sepal length (cm)', y='sepal width (cm)', \n",
        "                    z='petal width (cm)',color='target_names')\n",
        "fig.update_layout(template = 'plotly_dark',\n",
        "                  title = 'PCA')\n",
        "fig.show()\n",
        "fig.show('svg') #only for static image"
      ],
      "execution_count": null,
      "outputs": [
        {
          "output_type": "display_data",
          "data": {
            "text/html": [
              "<html>\n",
              "<head><meta charset=\"utf-8\" /></head>\n",
              "<body>\n",
              "    <div>\n",
              "            <script src=\"https://cdnjs.cloudflare.com/ajax/libs/mathjax/2.7.5/MathJax.js?config=TeX-AMS-MML_SVG\"></script><script type=\"text/javascript\">if (window.MathJax) {MathJax.Hub.Config({SVG: {font: \"STIX-Web\"}});}</script>\n",
              "                <script type=\"text/javascript\">window.PlotlyConfig = {MathJaxConfig: 'local'};</script>\n",
              "        <script src=\"https://cdn.plot.ly/plotly-latest.min.js\"></script>    \n",
              "            <div id=\"615e3831-1c5e-4e00-9d86-58930e8f436f\" class=\"plotly-graph-div\" style=\"height:525px; width:100%;\"></div>\n",
              "            <script type=\"text/javascript\">\n",
              "                \n",
              "                    window.PLOTLYENV=window.PLOTLYENV || {};\n",
              "                    \n",
              "                if (document.getElementById(\"615e3831-1c5e-4e00-9d86-58930e8f436f\")) {\n",
              "                    Plotly.newPlot(\n",
              "                        '615e3831-1c5e-4e00-9d86-58930e8f436f',\n",
              "                        [{\"hoverlabel\": {\"namelength\": 0}, \"hovertemplate\": \"target_names=setosa<br>sepal length (cm)=%{x}<br>sepal width (cm)=%{y}<br>petal width (cm)=%{z}\", \"legendgroup\": \"target_names=setosa\", \"marker\": {\"color\": \"#636efa\", \"symbol\": \"circle\"}, \"mode\": \"markers\", \"name\": \"target_names=setosa\", \"scene\": \"scene\", \"showlegend\": true, \"type\": \"scatter3d\", \"x\": [5.1, 4.9, 4.7, 4.6, 5.0, 5.4, 4.6, 5.0, 4.4, 4.9, 5.4, 4.8, 4.8, 4.3, 5.8, 5.7, 5.4, 5.1, 5.7, 5.1, 5.4, 5.1, 4.6, 5.1, 4.8, 5.0, 5.0, 5.2, 5.2, 4.7, 4.8, 5.4, 5.2, 5.5, 4.9, 5.0, 5.5, 4.9, 4.4, 5.1, 5.0, 4.5, 4.4, 5.0, 5.1, 4.8, 5.1, 4.6, 5.3, 5.0], \"y\": [3.5, 3.0, 3.2, 3.1, 3.6, 3.9, 3.4, 3.4, 2.9, 3.1, 3.7, 3.4, 3.0, 3.0, 4.0, 4.4, 3.9, 3.5, 3.8, 3.8, 3.4, 3.7, 3.6, 3.3, 3.4, 3.0, 3.4, 3.5, 3.4, 3.2, 3.1, 3.4, 4.1, 4.2, 3.1, 3.2, 3.5, 3.6, 3.0, 3.4, 3.5, 2.3, 3.2, 3.5, 3.8, 3.0, 3.8, 3.2, 3.7, 3.3], \"z\": [0.2, 0.2, 0.2, 0.2, 0.2, 0.4, 0.3, 0.2, 0.2, 0.1, 0.2, 0.2, 0.1, 0.1, 0.2, 0.4, 0.4, 0.3, 0.3, 0.3, 0.2, 0.4, 0.2, 0.5, 0.2, 0.2, 0.4, 0.2, 0.2, 0.2, 0.2, 0.4, 0.1, 0.2, 0.2, 0.2, 0.2, 0.1, 0.2, 0.2, 0.3, 0.3, 0.2, 0.6, 0.4, 0.3, 0.2, 0.2, 0.2, 0.2]}, {\"hoverlabel\": {\"namelength\": 0}, \"hovertemplate\": \"target_names=versicolor<br>sepal length (cm)=%{x}<br>sepal width (cm)=%{y}<br>petal width (cm)=%{z}\", \"legendgroup\": \"target_names=versicolor\", \"marker\": {\"color\": \"#EF553B\", \"symbol\": \"circle\"}, \"mode\": \"markers\", \"name\": \"target_names=versicolor\", \"scene\": \"scene\", \"showlegend\": true, \"type\": \"scatter3d\", \"x\": [7.0, 6.4, 6.9, 5.5, 6.5, 5.7, 6.3, 4.9, 6.6, 5.2, 5.0, 5.9, 6.0, 6.1, 5.6, 6.7, 5.6, 5.8, 6.2, 5.6, 5.9, 6.1, 6.3, 6.1, 6.4, 6.6, 6.8, 6.7, 6.0, 5.7, 5.5, 5.5, 5.8, 6.0, 5.4, 6.0, 6.7, 6.3, 5.6, 5.5, 5.5, 6.1, 5.8, 5.0, 5.6, 5.7, 5.7, 6.2, 5.1, 5.7], \"y\": [3.2, 3.2, 3.1, 2.3, 2.8, 2.8, 3.3, 2.4, 2.9, 2.7, 2.0, 3.0, 2.2, 2.9, 2.9, 3.1, 3.0, 2.7, 2.2, 2.5, 3.2, 2.8, 2.5, 2.8, 2.9, 3.0, 2.8, 3.0, 2.9, 2.6, 2.4, 2.4, 2.7, 2.7, 3.0, 3.4, 3.1, 2.3, 3.0, 2.5, 2.6, 3.0, 2.6, 2.3, 2.7, 3.0, 2.9, 2.9, 2.5, 2.8], \"z\": [1.4, 1.5, 1.5, 1.3, 1.5, 1.3, 1.6, 1.0, 1.3, 1.4, 1.0, 1.5, 1.0, 1.4, 1.3, 1.4, 1.5, 1.0, 1.5, 1.1, 1.8, 1.3, 1.5, 1.2, 1.3, 1.4, 1.4, 1.7, 1.5, 1.0, 1.1, 1.0, 1.2, 1.6, 1.5, 1.6, 1.5, 1.3, 1.3, 1.3, 1.2, 1.4, 1.2, 1.0, 1.3, 1.2, 1.3, 1.3, 1.1, 1.3]}, {\"hoverlabel\": {\"namelength\": 0}, \"hovertemplate\": \"target_names=virginica<br>sepal length (cm)=%{x}<br>sepal width (cm)=%{y}<br>petal width (cm)=%{z}\", \"legendgroup\": \"target_names=virginica\", \"marker\": {\"color\": \"#00cc96\", \"symbol\": \"circle\"}, \"mode\": \"markers\", \"name\": \"target_names=virginica\", \"scene\": \"scene\", \"showlegend\": true, \"type\": \"scatter3d\", \"x\": [6.3, 5.8, 7.1, 6.3, 6.5, 7.6, 4.9, 7.3, 6.7, 7.2, 6.5, 6.4, 6.8, 5.7, 5.8, 6.4, 6.5, 7.7, 7.7, 6.0, 6.9, 5.6, 7.7, 6.3, 6.7, 7.2, 6.2, 6.1, 6.4, 7.2, 7.4, 7.9, 6.4, 6.3, 6.1, 7.7, 6.3, 6.4, 6.0, 6.9, 6.7, 6.9, 5.8, 6.8, 6.7, 6.7, 6.3, 6.5, 6.2, 5.9], \"y\": [3.3, 2.7, 3.0, 2.9, 3.0, 3.0, 2.5, 2.9, 2.5, 3.6, 3.2, 2.7, 3.0, 2.5, 2.8, 3.2, 3.0, 3.8, 2.6, 2.2, 3.2, 2.8, 2.8, 2.7, 3.3, 3.2, 2.8, 3.0, 2.8, 3.0, 2.8, 3.8, 2.8, 2.8, 2.6, 3.0, 3.4, 3.1, 3.0, 3.1, 3.1, 3.1, 2.7, 3.2, 3.3, 3.0, 2.5, 3.0, 3.4, 3.0], \"z\": [2.5, 1.9, 2.1, 1.8, 2.2, 2.1, 1.7, 1.8, 1.8, 2.5, 2.0, 1.9, 2.1, 2.0, 2.4, 2.3, 1.8, 2.2, 2.3, 1.5, 2.3, 2.0, 2.0, 1.8, 2.1, 1.8, 1.8, 1.8, 2.1, 1.6, 1.9, 2.0, 2.2, 1.5, 1.4, 2.3, 2.4, 1.8, 1.8, 2.1, 2.4, 2.3, 1.9, 2.3, 2.5, 2.3, 1.9, 2.0, 2.3, 1.8]}],\n",
              "                        {\"legend\": {\"tracegroupgap\": 0}, \"margin\": {\"t\": 60}, \"scene\": {\"domain\": {\"x\": [0.0, 1.0], \"y\": [0.0, 1.0]}, \"xaxis\": {\"title\": {\"text\": \"sepal length (cm)\"}}, \"yaxis\": {\"title\": {\"text\": \"sepal width (cm)\"}}, \"zaxis\": {\"title\": {\"text\": \"petal width (cm)\"}}}, \"template\": {\"data\": {\"bar\": [{\"error_x\": {\"color\": \"#f2f5fa\"}, \"error_y\": {\"color\": \"#f2f5fa\"}, \"marker\": {\"line\": {\"color\": \"rgb(17,17,17)\", \"width\": 0.5}}, \"type\": \"bar\"}], \"barpolar\": [{\"marker\": {\"line\": {\"color\": \"rgb(17,17,17)\", \"width\": 0.5}}, \"type\": \"barpolar\"}], \"carpet\": [{\"aaxis\": {\"endlinecolor\": \"#A2B1C6\", \"gridcolor\": \"#506784\", \"linecolor\": \"#506784\", \"minorgridcolor\": \"#506784\", \"startlinecolor\": \"#A2B1C6\"}, \"baxis\": {\"endlinecolor\": \"#A2B1C6\", \"gridcolor\": \"#506784\", \"linecolor\": \"#506784\", \"minorgridcolor\": \"#506784\", \"startlinecolor\": \"#A2B1C6\"}, \"type\": \"carpet\"}], \"choropleth\": [{\"colorbar\": {\"outlinewidth\": 0, \"ticks\": \"\"}, \"type\": \"choropleth\"}], \"contour\": [{\"colorbar\": {\"outlinewidth\": 0, \"ticks\": \"\"}, \"colorscale\": [[0.0, \"#0d0887\"], [0.1111111111111111, \"#46039f\"], [0.2222222222222222, \"#7201a8\"], [0.3333333333333333, \"#9c179e\"], [0.4444444444444444, \"#bd3786\"], [0.5555555555555556, \"#d8576b\"], [0.6666666666666666, \"#ed7953\"], [0.7777777777777778, \"#fb9f3a\"], [0.8888888888888888, \"#fdca26\"], [1.0, \"#f0f921\"]], \"type\": \"contour\"}], \"contourcarpet\": [{\"colorbar\": {\"outlinewidth\": 0, \"ticks\": \"\"}, \"type\": \"contourcarpet\"}], \"heatmap\": [{\"colorbar\": {\"outlinewidth\": 0, \"ticks\": \"\"}, \"colorscale\": [[0.0, \"#0d0887\"], [0.1111111111111111, \"#46039f\"], [0.2222222222222222, \"#7201a8\"], [0.3333333333333333, \"#9c179e\"], [0.4444444444444444, \"#bd3786\"], [0.5555555555555556, \"#d8576b\"], [0.6666666666666666, \"#ed7953\"], [0.7777777777777778, \"#fb9f3a\"], [0.8888888888888888, \"#fdca26\"], [1.0, \"#f0f921\"]], \"type\": \"heatmap\"}], \"heatmapgl\": [{\"colorbar\": {\"outlinewidth\": 0, \"ticks\": \"\"}, \"colorscale\": [[0.0, \"#0d0887\"], [0.1111111111111111, \"#46039f\"], [0.2222222222222222, \"#7201a8\"], [0.3333333333333333, \"#9c179e\"], [0.4444444444444444, \"#bd3786\"], [0.5555555555555556, \"#d8576b\"], [0.6666666666666666, \"#ed7953\"], [0.7777777777777778, \"#fb9f3a\"], [0.8888888888888888, \"#fdca26\"], [1.0, \"#f0f921\"]], \"type\": \"heatmapgl\"}], \"histogram\": [{\"marker\": {\"colorbar\": {\"outlinewidth\": 0, \"ticks\": \"\"}}, \"type\": \"histogram\"}], \"histogram2d\": [{\"colorbar\": {\"outlinewidth\": 0, \"ticks\": \"\"}, \"colorscale\": [[0.0, \"#0d0887\"], [0.1111111111111111, \"#46039f\"], [0.2222222222222222, \"#7201a8\"], [0.3333333333333333, \"#9c179e\"], [0.4444444444444444, \"#bd3786\"], [0.5555555555555556, \"#d8576b\"], [0.6666666666666666, \"#ed7953\"], [0.7777777777777778, \"#fb9f3a\"], [0.8888888888888888, \"#fdca26\"], [1.0, \"#f0f921\"]], \"type\": \"histogram2d\"}], \"histogram2dcontour\": [{\"colorbar\": {\"outlinewidth\": 0, \"ticks\": \"\"}, \"colorscale\": [[0.0, \"#0d0887\"], [0.1111111111111111, \"#46039f\"], [0.2222222222222222, \"#7201a8\"], [0.3333333333333333, \"#9c179e\"], [0.4444444444444444, \"#bd3786\"], [0.5555555555555556, \"#d8576b\"], [0.6666666666666666, \"#ed7953\"], [0.7777777777777778, \"#fb9f3a\"], [0.8888888888888888, \"#fdca26\"], [1.0, \"#f0f921\"]], \"type\": \"histogram2dcontour\"}], \"mesh3d\": [{\"colorbar\": {\"outlinewidth\": 0, \"ticks\": \"\"}, \"type\": \"mesh3d\"}], \"parcoords\": [{\"line\": {\"colorbar\": {\"outlinewidth\": 0, \"ticks\": \"\"}}, \"type\": \"parcoords\"}], \"pie\": [{\"automargin\": true, \"type\": \"pie\"}], \"scatter\": [{\"marker\": {\"line\": {\"color\": \"#283442\"}}, \"type\": \"scatter\"}], \"scatter3d\": [{\"line\": {\"colorbar\": {\"outlinewidth\": 0, \"ticks\": \"\"}}, \"marker\": {\"colorbar\": {\"outlinewidth\": 0, \"ticks\": \"\"}}, \"type\": \"scatter3d\"}], \"scattercarpet\": [{\"marker\": {\"colorbar\": {\"outlinewidth\": 0, \"ticks\": \"\"}}, \"type\": \"scattercarpet\"}], \"scattergeo\": [{\"marker\": {\"colorbar\": {\"outlinewidth\": 0, \"ticks\": \"\"}}, \"type\": \"scattergeo\"}], \"scattergl\": [{\"marker\": {\"line\": {\"color\": \"#283442\"}}, \"type\": \"scattergl\"}], \"scattermapbox\": [{\"marker\": {\"colorbar\": {\"outlinewidth\": 0, \"ticks\": \"\"}}, \"type\": \"scattermapbox\"}], \"scatterpolar\": [{\"marker\": {\"colorbar\": {\"outlinewidth\": 0, \"ticks\": \"\"}}, \"type\": \"scatterpolar\"}], \"scatterpolargl\": [{\"marker\": {\"colorbar\": {\"outlinewidth\": 0, \"ticks\": \"\"}}, \"type\": \"scatterpolargl\"}], \"scatterternary\": [{\"marker\": {\"colorbar\": {\"outlinewidth\": 0, \"ticks\": \"\"}}, \"type\": \"scatterternary\"}], \"surface\": [{\"colorbar\": {\"outlinewidth\": 0, \"ticks\": \"\"}, \"colorscale\": [[0.0, \"#0d0887\"], [0.1111111111111111, \"#46039f\"], [0.2222222222222222, \"#7201a8\"], [0.3333333333333333, \"#9c179e\"], [0.4444444444444444, \"#bd3786\"], [0.5555555555555556, \"#d8576b\"], [0.6666666666666666, \"#ed7953\"], [0.7777777777777778, \"#fb9f3a\"], [0.8888888888888888, \"#fdca26\"], [1.0, \"#f0f921\"]], \"type\": \"surface\"}], \"table\": [{\"cells\": {\"fill\": {\"color\": \"#506784\"}, \"line\": {\"color\": \"rgb(17,17,17)\"}}, \"header\": {\"fill\": {\"color\": \"#2a3f5f\"}, \"line\": {\"color\": \"rgb(17,17,17)\"}}, \"type\": \"table\"}]}, \"layout\": {\"annotationdefaults\": {\"arrowcolor\": \"#f2f5fa\", \"arrowhead\": 0, \"arrowwidth\": 1}, \"coloraxis\": {\"colorbar\": {\"outlinewidth\": 0, \"ticks\": \"\"}}, \"colorscale\": {\"diverging\": [[0, \"#8e0152\"], [0.1, \"#c51b7d\"], [0.2, \"#de77ae\"], [0.3, \"#f1b6da\"], [0.4, \"#fde0ef\"], [0.5, \"#f7f7f7\"], [0.6, \"#e6f5d0\"], [0.7, \"#b8e186\"], [0.8, \"#7fbc41\"], [0.9, \"#4d9221\"], [1, \"#276419\"]], \"sequential\": [[0.0, \"#0d0887\"], [0.1111111111111111, \"#46039f\"], [0.2222222222222222, \"#7201a8\"], [0.3333333333333333, \"#9c179e\"], [0.4444444444444444, \"#bd3786\"], [0.5555555555555556, \"#d8576b\"], [0.6666666666666666, \"#ed7953\"], [0.7777777777777778, \"#fb9f3a\"], [0.8888888888888888, \"#fdca26\"], [1.0, \"#f0f921\"]], \"sequentialminus\": [[0.0, \"#0d0887\"], [0.1111111111111111, \"#46039f\"], [0.2222222222222222, \"#7201a8\"], [0.3333333333333333, \"#9c179e\"], [0.4444444444444444, \"#bd3786\"], [0.5555555555555556, \"#d8576b\"], [0.6666666666666666, \"#ed7953\"], [0.7777777777777778, \"#fb9f3a\"], [0.8888888888888888, \"#fdca26\"], [1.0, \"#f0f921\"]]}, \"colorway\": [\"#636efa\", \"#EF553B\", \"#00cc96\", \"#ab63fa\", \"#FFA15A\", \"#19d3f3\", \"#FF6692\", \"#B6E880\", \"#FF97FF\", \"#FECB52\"], \"font\": {\"color\": \"#f2f5fa\"}, \"geo\": {\"bgcolor\": \"rgb(17,17,17)\", \"lakecolor\": \"rgb(17,17,17)\", \"landcolor\": \"rgb(17,17,17)\", \"showlakes\": true, \"showland\": true, \"subunitcolor\": \"#506784\"}, \"hoverlabel\": {\"align\": \"left\"}, \"hovermode\": \"closest\", \"mapbox\": {\"style\": \"dark\"}, \"paper_bgcolor\": \"rgb(17,17,17)\", \"plot_bgcolor\": \"rgb(17,17,17)\", \"polar\": {\"angularaxis\": {\"gridcolor\": \"#506784\", \"linecolor\": \"#506784\", \"ticks\": \"\"}, \"bgcolor\": \"rgb(17,17,17)\", \"radialaxis\": {\"gridcolor\": \"#506784\", \"linecolor\": \"#506784\", \"ticks\": \"\"}}, \"scene\": {\"xaxis\": {\"backgroundcolor\": \"rgb(17,17,17)\", \"gridcolor\": \"#506784\", \"gridwidth\": 2, \"linecolor\": \"#506784\", \"showbackground\": true, \"ticks\": \"\", \"zerolinecolor\": \"#C8D4E3\"}, \"yaxis\": {\"backgroundcolor\": \"rgb(17,17,17)\", \"gridcolor\": \"#506784\", \"gridwidth\": 2, \"linecolor\": \"#506784\", \"showbackground\": true, \"ticks\": \"\", \"zerolinecolor\": \"#C8D4E3\"}, \"zaxis\": {\"backgroundcolor\": \"rgb(17,17,17)\", \"gridcolor\": \"#506784\", \"gridwidth\": 2, \"linecolor\": \"#506784\", \"showbackground\": true, \"ticks\": \"\", \"zerolinecolor\": \"#C8D4E3\"}}, \"shapedefaults\": {\"line\": {\"color\": \"#f2f5fa\"}}, \"sliderdefaults\": {\"bgcolor\": \"#C8D4E3\", \"bordercolor\": \"rgb(17,17,17)\", \"borderwidth\": 1, \"tickwidth\": 0}, \"ternary\": {\"aaxis\": {\"gridcolor\": \"#506784\", \"linecolor\": \"#506784\", \"ticks\": \"\"}, \"baxis\": {\"gridcolor\": \"#506784\", \"linecolor\": \"#506784\", \"ticks\": \"\"}, \"bgcolor\": \"rgb(17,17,17)\", \"caxis\": {\"gridcolor\": \"#506784\", \"linecolor\": \"#506784\", \"ticks\": \"\"}}, \"title\": {\"x\": 0.05}, \"updatemenudefaults\": {\"bgcolor\": \"#506784\", \"borderwidth\": 0}, \"xaxis\": {\"automargin\": true, \"gridcolor\": \"#283442\", \"linecolor\": \"#506784\", \"ticks\": \"\", \"title\": {\"standoff\": 15}, \"zerolinecolor\": \"#283442\", \"zerolinewidth\": 2}, \"yaxis\": {\"automargin\": true, \"gridcolor\": \"#283442\", \"linecolor\": \"#506784\", \"ticks\": \"\", \"title\": {\"standoff\": 15}, \"zerolinecolor\": \"#283442\", \"zerolinewidth\": 2}}}, \"title\": {\"text\": \"PCA\"}},\n",
              "                        {\"responsive\": true}\n",
              "                    ).then(function(){\n",
              "                            \n",
              "var gd = document.getElementById('615e3831-1c5e-4e00-9d86-58930e8f436f');\n",
              "var x = new MutationObserver(function (mutations, observer) {{\n",
              "        var display = window.getComputedStyle(gd).display;\n",
              "        if (!display || display === 'none') {{\n",
              "            console.log([gd, 'removed!']);\n",
              "            Plotly.purge(gd);\n",
              "            observer.disconnect();\n",
              "        }}\n",
              "}});\n",
              "\n",
              "// Listen for the removal of the full notebook cells\n",
              "var notebookContainer = gd.closest('#notebook-container');\n",
              "if (notebookContainer) {{\n",
              "    x.observe(notebookContainer, {childList: true});\n",
              "}}\n",
              "\n",
              "// Listen for the clearing of the current output cell\n",
              "var outputEl = gd.closest('.output');\n",
              "if (outputEl) {{\n",
              "    x.observe(outputEl, {childList: true});\n",
              "}}\n",
              "\n",
              "                        })\n",
              "                };\n",
              "                \n",
              "            </script>\n",
              "        </div>\n",
              "</body>\n",
              "</html>"
            ]
          },
          "metadata": {
            "tags": []
          }
        },
        {
          "output_type": "display_data",
          "data": {
            "image/svg+xml": "<svg class=\"main-svg\" xmlns=\"http://www.w3.org/2000/svg\" xmlns:xlink=\"http://www.w3.org/1999/xlink\" width=\"700\" height=\"450\" viewBox=\"0 0 700 450\"><rect x=\"0\" y=\"0\" width=\"700\" height=\"450\" style=\"fill: rgb(17, 17, 17); fill-opacity: 1;\"/><defs id=\"defs-d3acd0\"><g class=\"clips\"/><g class=\"gradients\"/></defs><g class=\"bglayer\"/><g class=\"layer-below\"><g class=\"imagelayer\"/><g class=\"shapelayer\"/></g><g class=\"cartesianlayer\"/><g class=\"polarlayer\"/><g class=\"ternarylayer\"/><g class=\"geolayer\"/><g class=\"funnelarealayer\"/><g class=\"pielayer\"/><g class=\"treemaplayer\"/><g class=\"sunburstlayer\"/><g class=\"glimages\"><image xmlns=\"http://www.w3.org/2000/svg\" xlink:href=\"data:image/png;base64,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\" x=\"80\" y=\"60\" width=\"423\" height=\"310\" preserveAspectRatio=\"none\"/></g><defs id=\"topdefs-d3acd0\"><g class=\"clips\"/><clipPath id=\"legendd3acd0\"><rect width=\"177\" height=\"67\" x=\"0\" y=\"0\"/></clipPath></defs><g class=\"layer-above\"><g class=\"imagelayer\"/><g class=\"shapelayer\"/></g><g class=\"infolayer\"><g class=\"legend\" pointer-events=\"all\" transform=\"translate(511.46, 60)\"><rect class=\"bg\" shape-rendering=\"crispEdges\" style=\"stroke: rgb(68, 68, 68); stroke-opacity: 1; fill: rgb(17, 17, 17); fill-opacity: 1; stroke-width: 0px;\" width=\"177\" height=\"67\" x=\"0\" y=\"0\"/><g class=\"scrollbox\" transform=\"translate(0, 0)\" clip-path=\"url('#legendd3acd0')\"><g class=\"groups\" transform=\"translate(0, 0)\"><g class=\"traces\" transform=\"translate(0, 14.5)\" style=\"opacity: 1;\"><text class=\"legendtext user-select-none\" text-anchor=\"start\" x=\"40\" y=\"4.680000000000001\" style=\"font-family: 'Open Sans', verdana, arial, sans-serif; font-size: 12px; fill: rgb(242, 245, 250); fill-opacity: 1; white-space: pre;\">target_names=setosa</text><g class=\"layers\" style=\"opacity: 1;\"><g class=\"legendfill\"/><g class=\"legendlines\"/><g class=\"legendsymbols\"><g class=\"legendpoints\"><path class=\"scatterpts\" transform=\"translate(20,0)\" d=\"M4,0A4,4 0 1,1 0,-4A4,4 0 0,1 4,0Z\" style=\"opacity: 1; stroke-width: 0px; fill: rgb(99, 110, 250); fill-opacity: 1;\"/></g></g></g><rect class=\"legendtoggle\" pointer-events=\"all\" x=\"0\" y=\"-9.5\" width=\"171.734375\" height=\"19\" style=\"cursor: pointer; fill: rgb(0, 0, 0); fill-opacity: 0;\"/></g></g><g class=\"groups\" transform=\"translate(0, 0)\"><g class=\"traces\" transform=\"translate(0, 33.5)\" style=\"opacity: 1;\"><text class=\"legendtext user-select-none\" text-anchor=\"start\" x=\"40\" y=\"4.680000000000001\" style=\"font-family: 'Open Sans', verdana, arial, sans-serif; font-size: 12px; fill: rgb(242, 245, 250); fill-opacity: 1; white-space: pre;\">target_names=versicolor</text><g class=\"layers\" style=\"opacity: 1;\"><g class=\"legendfill\"/><g class=\"legendlines\"/><g class=\"legendsymbols\"><g class=\"legendpoints\"><path class=\"scatterpts\" transform=\"translate(20,0)\" d=\"M4,0A4,4 0 1,1 0,-4A4,4 0 0,1 4,0Z\" style=\"opacity: 1; stroke-width: 0px; fill: rgb(239, 85, 59); fill-opacity: 1;\"/></g></g></g><rect class=\"legendtoggle\" pointer-events=\"all\" x=\"0\" y=\"-9.5\" width=\"171.734375\" height=\"19\" style=\"cursor: pointer; fill: rgb(0, 0, 0); fill-opacity: 0;\"/></g></g><g class=\"groups\" transform=\"translate(0, 0)\"><g class=\"traces\" transform=\"translate(0, 52.5)\" style=\"opacity: 1;\"><text class=\"legendtext user-select-none\" text-anchor=\"start\" x=\"40\" y=\"4.680000000000001\" style=\"font-family: 'Open Sans', verdana, arial, sans-serif; font-size: 12px; fill: rgb(242, 245, 250); fill-opacity: 1; white-space: pre;\">target_names=virginica</text><g class=\"layers\" style=\"opacity: 1;\"><g class=\"legendfill\"/><g class=\"legendlines\"/><g class=\"legendsymbols\"><g class=\"legendpoints\"><path class=\"scatterpts\" transform=\"translate(20,0)\" d=\"M4,0A4,4 0 1,1 0,-4A4,4 0 0,1 4,0Z\" style=\"opacity: 1; stroke-width: 0px; fill: rgb(0, 204, 150); fill-opacity: 1;\"/></g></g></g><rect class=\"legendtoggle\" pointer-events=\"all\" x=\"0\" y=\"-9.5\" width=\"171.734375\" height=\"19\" style=\"cursor: pointer; fill: rgb(0, 0, 0); fill-opacity: 0;\"/></g></g></g><rect class=\"scrollbar\" rx=\"20\" ry=\"3\" width=\"0\" height=\"0\" style=\"fill: rgb(128, 139, 164); fill-opacity: 1;\" x=\"0\" y=\"0\"/></g><g class=\"g-gtitle\"><text class=\"gtitle\" x=\"35\" y=\"30\" text-anchor=\"start\" dy=\"0em\" style=\"font-family: 'Open Sans', verdana, arial, sans-serif; font-size: 17px; fill: rgb(242, 245, 250); opacity: 1; font-weight: normal; white-space: pre;\">PCA</text></g></g></svg>"
          },
          "metadata": {
            "tags": []
          }
        }
      ]
    },
    {
      "cell_type": "markdown",
      "metadata": {
        "id": "t3G0AwSx9-gl",
        "colab_type": "text"
      },
      "source": [
        "<h3>Clustering using KMeans Clustering Algo.</h3>"
      ]
    }
  ]
}